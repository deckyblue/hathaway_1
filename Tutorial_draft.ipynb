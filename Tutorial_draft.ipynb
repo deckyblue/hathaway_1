{
 "cells": [
  {
   "cell_type": "markdown",
   "metadata": {},
   "source": [
    "Hi! Here's a tutorial on... \n",
    "\n",
    "If you have any problems, please email: dexterkim2000@gmail.com\n",
    "\n",
    "Please run the following cell before continuing."
   ]
  },
  {
   "cell_type": "code",
   "execution_count": 2,
   "metadata": {},
   "outputs": [],
   "source": [
    "import os\n",
    "import pandas as pd\n",
    "import numpy as np\n",
    "\n",
    "# plotting imports \n",
    "import matplotlib.pyplot as plt\n",
    "from matplotlib.ticker import MaxNLocator\n",
    "\n",
    "# stats imports \n",
    "import scipy.stats as stats\n",
    "\n",
    "#the following line prevents pandas from giving unecessary errors \n",
    "pd.options.mode.chained_assignment = None"
   ]
  },
  {
   "cell_type": "markdown",
   "metadata": {},
   "source": [
    "Check your current working directory by running line 2. \n",
    "\n",
    "From your working directory, make a data folder (call it: data), and add your .xlsx file into that folder. \n",
    "\n",
    "Change ('..\\\\PhD_data\\\\BH07') to your current working directory and add '\\\\data' \n",
    "For example, my current working directory is 'C:\\\\Users\\\\dexte\\\\hathaway_1', so I enter 'C:\\\\Users\\\\dexte\\\\hathaway_1\\\\data' into the brackets (slashes will be different if you are not using windows). \n",
    "\n",
    "This saves all data in your data folder, instead of your working directory. "
   ]
  },
  {
   "cell_type": "code",
   "execution_count": 9,
   "metadata": {},
   "outputs": [
    {
     "data": {
      "text/plain": [
       "'C:\\\\Users\\\\dexte\\\\hathaway_1\\\\data'"
      ]
     },
     "execution_count": 9,
     "metadata": {},
     "output_type": "execute_result"
    }
   ],
   "source": [
    "#checks current working directory\n",
    "os.getcwd()\n",
    "\n",
    "#changes working directory to whatever is included in brackets\n",
    "os.chdir('C:\\\\Users\\\\dexte\\\\hathaway_1\\\\data') "
   ]
  },
  {
   "cell_type": "markdown",
   "metadata": {},
   "source": [
    "##Set your variables! These will be used later in the code. Example arguments are left in for clarity"
   ]
  },
  {
   "cell_type": "code",
   "execution_count": 8,
   "metadata": {},
   "outputs": [],
   "source": [
    "#we need to set a few variables for loading in the data - these will change depending on the dataset\n",
    "\n",
    "#in file_names (List[str]), add the file names you wish to read into Python \n",
    "file_names = ['BH07_raw_free_S29-30.xlsx']\n",
    "\n",
    "#in group_names (List[str]), add the names of the control and experimental group, respectively \n",
    "group_names = ['Tg negative','Tg positive'] \n",
    "\n",
    "title = 'Nigrostriatal activation during acquisition' #title for figures, describing the experiment\n",
    "startsess = 29 #first session in this dataset\n",
    "endsess = 30 #last session in this dataset\n",
    "\n",
    "\n",
    "#the following two lines of code assign the rat subject numbers to the experimental and control group lists\n",
    "exp_group = [1, 2, 7, 8, 11, 12, 16, 19, 20, 21, 22, 25, 26, 29, 32] #Tg positive\n",
    "\n",
    "control_group = [3, 4, 5, 6, 9, 13, 14, 15, 17, 18, 23, 24, 27, 28, 30, 31] #Tg negative"
   ]
  },
  {
   "cell_type": "markdown",
   "metadata": {},
   "source": [
    "Time to load your data into Python! \n",
    "\n",
    "load_data takes in one argument: file_names \n",
    "Recall: file_names is the object assigned to the list of files you want to read into Python. Make sure this is correct! If this is your first run through the code, maybe try loading in just one file. \n",
    "\n",
    "load_data outputs an appended data frame (in the order established in file_names) "
   ]
  },
  {
   "cell_type": "code",
   "execution_count": null,
   "metadata": {},
   "outputs": [],
   "source": [
    "load_data(file_names)\n",
    "\n",
    "#load_data won't output a dataframe itself. Use the following function to view the top of your dataframe. Note: it should look the exact same as your first excel file. \n",
    "\n",
    "df.head()"
   ]
  }
 ],
 "metadata": {
  "kernelspec": {
   "display_name": "Python 3",
   "language": "python",
   "name": "python3"
  },
  "language_info": {
   "codemirror_mode": {
    "name": "ipython",
    "version": 3
   },
   "file_extension": ".py",
   "mimetype": "text/x-python",
   "name": "python",
   "nbconvert_exporter": "python",
   "pygments_lexer": "ipython3",
   "version": "3.8.5"
  }
 },
 "nbformat": 4,
 "nbformat_minor": 4
}
