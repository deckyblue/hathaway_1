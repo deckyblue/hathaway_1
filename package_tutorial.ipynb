{
 "cells": [
  {
   "cell_type": "code",
   "execution_count": 1,
   "metadata": {},
   "outputs": [],
   "source": [
    "%load_ext autoreload\n",
    "%autoreload 2"
   ]
  },
  {
   "cell_type": "markdown",
   "metadata": {},
   "source": [
    "Notes \n",
    "- we can import this module into our session \n",
    "- Python ca \"find\" this module because it is in the present directory "
   ]
  },
  {
   "cell_type": "code",
   "execution_count": 8,
   "metadata": {},
   "outputs": [
    {
     "name": "stdout",
     "output_type": "stream",
     "text": [
      "I am being executed!\n"
     ]
    }
   ],
   "source": [
    "# importing my_module in our interactive session\n",
    ">>> import my_module\n",
    "# I am being executed!\n",
    "\n",
    "# # produced is a object that is an instance of the module-type\n",
    "# >>> my_module\n",
    "# <module 'my_module' from 'C:\\\\Users\\\\dexte\\\\hathaway_1\\\\my_module.py'>\n",
    "\n",
    "# >>> type(my_module)\n",
    "# module"
   ]
  },
  {
   "cell_type": "code",
   "execution_count": 11,
   "metadata": {},
   "outputs": [
    {
     "data": {
      "text/plain": [
       "8"
      ]
     },
     "execution_count": 11,
     "metadata": {},
     "output_type": "execute_result"
    }
   ],
   "source": [
    "# # all of the variables assigned in the module are made\n",
    "# # available as attributes of the module object\n",
    "# >>> my_module.some_list\n",
    "# ['a', 1, None]\n",
    "\n",
    "# >>> my_module.square\n",
    "# <function my_module.square(x)>\n",
    "\n",
    "# >>> my_module.square(2)\n",
    "# 4\n",
    "\n",
    "# >>> my_module.cube(2)\n",
    "# 8\n",
    "\n",
    "my_module.cube(2)"
   ]
  },
  {
   "cell_type": "code",
   "execution_count": 12,
   "metadata": {},
   "outputs": [
    {
     "name": "stdout",
     "output_type": "stream",
     "text": [
      "Help on module my_module:\n",
      "\n",
      "NAME\n",
      "    my_module\n",
      "\n",
      "DESCRIPTION\n",
      "    Our first Python module. This initial string is a module-level documentation string.\n",
      "    It is not a necessary component of the module. It is a useful way to describe the\n",
      "    purpose of your module.\n",
      "\n",
      "FUNCTIONS\n",
      "    cube(x)\n",
      "    \n",
      "    square(x)\n",
      "\n",
      "DATA\n",
      "    some_list = ['a', 1, None]\n",
      "\n",
      "FILE\n",
      "    c:\\users\\dexte\\hathaway_1\\my_module.py\n",
      "\n",
      "\n"
     ]
    }
   ],
   "source": [
    "help(my_module)"
   ]
  },
  {
   "cell_type": "markdown",
   "metadata": {},
   "source": [
    "Notes \n",
    "- In general we can perform an alias for an import via: import <module_name> as <alias_name>\n",
    "- Next, the pattern from <module_name> import <thing1>, <thing2>, ... permits us to import specific objects from the module\n",
    "    instead of the importing the entire module as a whole"
   ]
  },
  {
   "cell_type": "code",
   "execution_count": 3,
   "metadata": {},
   "outputs": [
    {
     "data": {
      "text/plain": [
       "4"
      ]
     },
     "execution_count": 3,
     "metadata": {},
     "output_type": "execute_result"
    }
   ],
   "source": [
    "from my_module import square, some_list\n",
    "\n",
    "some_list\n",
    "\n",
    "square(2)"
   ]
  },
  {
   "cell_type": "markdown",
   "metadata": {},
   "source": [
    "Lastly, you can specify * to refer to all of the module’s attributes."
   ]
  },
  {
   "cell_type": "code",
   "execution_count": 4,
   "metadata": {},
   "outputs": [],
   "source": [
    "# import all of the contents of `my_module`\n",
    ">>> from my_module import *"
   ]
  },
  {
   "cell_type": "markdown",
   "metadata": {},
   "source": [
    "Packages"
   ]
  }
 ],
 "metadata": {
  "kernelspec": {
   "display_name": "Python 3",
   "language": "python",
   "name": "python3"
  },
  "language_info": {
   "codemirror_mode": {
    "name": "ipython",
    "version": 3
   },
   "file_extension": ".py",
   "mimetype": "text/x-python",
   "name": "python",
   "nbconvert_exporter": "python",
   "pygments_lexer": "ipython3",
   "version": "3.8.5"
  }
 },
 "nbformat": 4,
 "nbformat_minor": 4
}
